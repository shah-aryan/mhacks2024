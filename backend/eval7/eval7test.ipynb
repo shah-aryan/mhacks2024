{
 "cells": [
  {
   "cell_type": "markdown",
   "metadata": {},
   "source": []
  },
  {
   "cell_type": "code",
   "execution_count": 38,
   "metadata": {},
   "outputs": [
    {
     "name": "stdout",
     "output_type": "stream",
     "text": [
      "[Card(\"8h\"), Card(\"2h\"), Card(\"Th\"), Card(\"6h\"), Card(\"9s\"), Card(\"Kc\"), Card(\"Tc\")]\n",
      "17348448\n",
      "Pair\n"
     ]
    }
   ],
   "source": [
    "import eval7, pprint\n",
    "deck = eval7.Deck()\n",
    "deck.shuffle()\n",
    "hand = deck.deal(7)\n",
    "print(hand)\n",
    "print(eval7.evaluate(hand))\n",
    "print(eval7.handtype(eval7.evaluate(hand)))"
   ]
  }
 ],
 "metadata": {
  "kernelspec": {
   "display_name": "Python 3",
   "language": "python",
   "name": "python3"
  },
  "language_info": {
   "codemirror_mode": {
    "name": "ipython",
    "version": 3
   },
   "file_extension": ".py",
   "mimetype": "text/x-python",
   "name": "python",
   "nbconvert_exporter": "python",
   "pygments_lexer": "ipython3",
   "version": "3.10.3"
  }
 },
 "nbformat": 4,
 "nbformat_minor": 2
}
